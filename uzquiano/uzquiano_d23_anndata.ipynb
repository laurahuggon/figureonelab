{
 "cells": [
  {
   "metadata": {},
   "cell_type": "markdown",
   "source": [
    "# FigureOneLabs: Proper acquisition of cell class identity in organoids allows definition of fate specification programs of the human cerebral cortex (Uzquiano, 2022)\n",
    "## Preparing the data"
   ],
   "id": "1c7f3cba0736123f"
  },
  {
   "cell_type": "code",
   "id": "b3c003c7",
   "metadata": {
    "executionInfo": {
     "elapsed": 11701,
     "status": "ok",
     "timestamp": 1703195601975,
     "user": {
      "displayName": "Dean Lee",
      "userId": "08770626040323150090"
     },
     "user_tz": 300
    },
    "id": "b3c003c7",
    "ExecuteTime": {
     "end_time": "2024-07-08T11:29:31.191192Z",
     "start_time": "2024-07-08T11:29:27.655448Z"
    }
   },
   "source": [
    "import os\n",
    "import numpy as np\n",
    "import pandas as pd\n",
    "import scipy\n",
    "import anndata\n",
    "import scanpy as sc\n",
    "import pybiomart\n",
    "import scvi\n",
    "import torch\n",
    "import random\n",
    "import seaborn as sns"
   ],
   "outputs": [],
   "execution_count": 1
  },
  {
   "cell_type": "code",
   "id": "befc805c",
   "metadata": {
    "ExecuteTime": {
     "end_time": "2024-07-08T11:29:31.194847Z",
     "start_time": "2024-07-08T11:29:31.192866Z"
    }
   },
   "source": [
    "# Create an account for Broad Single Cell Portal\n",
    "# Download data from https://singlecell.broadinstitute.org/single_cell/study/SCP1756/cortical-organoids-atlas#study-download"
   ],
   "outputs": [],
   "execution_count": 2
  },
  {
   "metadata": {},
   "cell_type": "markdown",
   "source": "Read in the metadata file and prepare the dataframe.",
   "id": "afc9599fd906b572"
  },
  {
   "cell_type": "code",
   "id": "80b848ff",
   "metadata": {
    "colab": {
     "base_uri": "https://localhost:8080/",
     "height": 617
    },
    "executionInfo": {
     "elapsed": 1000,
     "status": "ok",
     "timestamp": 1703195755276,
     "user": {
      "displayName": "Dean Lee",
      "userId": "08770626040323150090"
     },
     "user_tz": 300
    },
    "id": "80b848ff",
    "outputId": "e4711736-eecc-46d3-850c-ea3a5a288197",
    "ExecuteTime": {
     "end_time": "2024-07-08T11:29:32.607483Z",
     "start_time": "2024-07-08T11:29:31.195616Z"
    }
   },
   "source": [
    "meta = pd.read_csv('./data/meta_all.txt', sep='\\t') # Specify that the file is tab-separated\n",
    "meta"
   ],
   "outputs": [
    {
     "name": "stderr",
     "output_type": "stream",
     "text": [
      "/var/folders/tj/nksd2rpd1zv9gsz28dlj1r0c0000gn/T/ipykernel_80217/510930202.py:1: DtypeWarning: Columns (3,4) have mixed types. Specify dtype option on import or set low_memory=False.\n",
      "  meta = pd.read_csv('./data/meta_all.txt', sep='\\t') # Specify that the file is tab-separated\n"
     ]
    },
    {
     "data": {
      "text/plain": [
       "                                  NAME   biosample_id        donor_id  \\\n",
       "0                                 TYPE          group           group   \n",
       "1           AAACGAAAGACACAAT-3_1m-ATAC      ATAC-Org3  Mito 210 c1 b5   \n",
       "2           AAACGAAAGACCTATC-1_1m-ATAC      ATAC-Org1  Mito 210 c1 b5   \n",
       "3           AAACGAAAGATTGACA-2_1m-ATAC      ATAC-Org2  Mito 210 c1 b5   \n",
       "4           AAACGAAAGCGTCTGC-1_1m-ATAC      ATAC-Org1  Mito 210 c1 b5   \n",
       "...                                ...            ...             ...   \n",
       "777088  PCW18_TTTGTTGGTCACCGAC-1_fetal  Fetal-4-PCW18   Fetal-4-PCW18   \n",
       "777089  PCW18_TTTGTTGGTGACAGCA-1_fetal  Fetal-4-PCW18   Fetal-4-PCW18   \n",
       "777090  PCW18_TTTGTTGGTTAGAAAC-1_fetal  Fetal-4-PCW18   Fetal-4-PCW18   \n",
       "777091  PCW18_TTTGTTGTCACCCTTG-1_fetal  Fetal-4-PCW18   Fetal-4-PCW18   \n",
       "777092  PCW18_TTTGTTGTCACTTGGA-1_fetal  Fetal-4-PCW18   Fetal-4-PCW18   \n",
       "\n",
       "          nGene     nUMI      sex         species species__ontology_label  \\\n",
       "0       numeric  numeric    group           group                   group   \n",
       "1          3850     5327     male  NCBITaxon:9606            Homo sapiens   \n",
       "2          2070     2556     male  NCBITaxon:9606            Homo sapiens   \n",
       "3          2708     3334     male  NCBITaxon:9606            Homo sapiens   \n",
       "4          3970     5339     male  NCBITaxon:9606            Homo sapiens   \n",
       "...         ...      ...      ...             ...                     ...   \n",
       "777088     2298     5225  unknown  NCBITaxon:9606            Homo sapiens   \n",
       "777089     6308    24794  unknown  NCBITaxon:9606            Homo sapiens   \n",
       "777090     1142     2062  unknown  NCBITaxon:9606            Homo sapiens   \n",
       "777091     2881     7919  unknown  NCBITaxon:9606            Homo sapiens   \n",
       "777092     2535     6155  unknown  NCBITaxon:9606            Homo sapiens   \n",
       "\n",
       "             disease disease__ontology_label           organ  \\\n",
       "0              group                   group           group   \n",
       "1       PATO_0000461                  normal  UBERON:0000955   \n",
       "2       PATO_0000461                  normal  UBERON:0000955   \n",
       "3       PATO_0000461                  normal  UBERON:0000955   \n",
       "4       PATO_0000461                  normal  UBERON:0000955   \n",
       "...              ...                     ...             ...   \n",
       "777088  PATO_0000461                  normal  UBERON:0000955   \n",
       "777089  PATO_0000461                  normal  UBERON:0000955   \n",
       "777090  PATO_0000461                  normal  UBERON:0000955   \n",
       "777091  PATO_0000461                  normal  UBERON:0000955   \n",
       "777092  PATO_0000461                  normal  UBERON:0000955   \n",
       "\n",
       "       organ__ontology_label library_preparation_protocol  \\\n",
       "0                      group                        group   \n",
       "1                      brain                  EFO:0010891   \n",
       "2                      brain                  EFO:0010891   \n",
       "3                      brain                  EFO:0010891   \n",
       "4                      brain                  EFO:0010891   \n",
       "...                      ...                          ...   \n",
       "777088                 brain                  EFO:0008995   \n",
       "777089                 brain                  EFO:0008995   \n",
       "777090                 brain                  EFO:0008995   \n",
       "777091                 brain                  EFO:0008995   \n",
       "777092                 brain                  EFO:0008995   \n",
       "\n",
       "       library_preparation_protocol__ontology_label           biosample_type  \n",
       "0                                             group                    group  \n",
       "1                                        scATAC-seq     DerivedType_Organoid  \n",
       "2                                        scATAC-seq     DerivedType_Organoid  \n",
       "3                                        scATAC-seq     DerivedType_Organoid  \n",
       "4                                        scATAC-seq     DerivedType_Organoid  \n",
       "...                                             ...                      ...  \n",
       "777088                               10X sequencing  PrimaryBioSample_Tissue  \n",
       "777089                               10X sequencing  PrimaryBioSample_Tissue  \n",
       "777090                               10X sequencing  PrimaryBioSample_Tissue  \n",
       "777091                               10X sequencing  PrimaryBioSample_Tissue  \n",
       "777092                               10X sequencing  PrimaryBioSample_Tissue  \n",
       "\n",
       "[777093 rows x 15 columns]"
      ],
      "text/html": [
       "<div>\n",
       "<style scoped>\n",
       "    .dataframe tbody tr th:only-of-type {\n",
       "        vertical-align: middle;\n",
       "    }\n",
       "\n",
       "    .dataframe tbody tr th {\n",
       "        vertical-align: top;\n",
       "    }\n",
       "\n",
       "    .dataframe thead th {\n",
       "        text-align: right;\n",
       "    }\n",
       "</style>\n",
       "<table border=\"1\" class=\"dataframe\">\n",
       "  <thead>\n",
       "    <tr style=\"text-align: right;\">\n",
       "      <th></th>\n",
       "      <th>NAME</th>\n",
       "      <th>biosample_id</th>\n",
       "      <th>donor_id</th>\n",
       "      <th>nGene</th>\n",
       "      <th>nUMI</th>\n",
       "      <th>sex</th>\n",
       "      <th>species</th>\n",
       "      <th>species__ontology_label</th>\n",
       "      <th>disease</th>\n",
       "      <th>disease__ontology_label</th>\n",
       "      <th>organ</th>\n",
       "      <th>organ__ontology_label</th>\n",
       "      <th>library_preparation_protocol</th>\n",
       "      <th>library_preparation_protocol__ontology_label</th>\n",
       "      <th>biosample_type</th>\n",
       "    </tr>\n",
       "  </thead>\n",
       "  <tbody>\n",
       "    <tr>\n",
       "      <th>0</th>\n",
       "      <td>TYPE</td>\n",
       "      <td>group</td>\n",
       "      <td>group</td>\n",
       "      <td>numeric</td>\n",
       "      <td>numeric</td>\n",
       "      <td>group</td>\n",
       "      <td>group</td>\n",
       "      <td>group</td>\n",
       "      <td>group</td>\n",
       "      <td>group</td>\n",
       "      <td>group</td>\n",
       "      <td>group</td>\n",
       "      <td>group</td>\n",
       "      <td>group</td>\n",
       "      <td>group</td>\n",
       "    </tr>\n",
       "    <tr>\n",
       "      <th>1</th>\n",
       "      <td>AAACGAAAGACACAAT-3_1m-ATAC</td>\n",
       "      <td>ATAC-Org3</td>\n",
       "      <td>Mito 210 c1 b5</td>\n",
       "      <td>3850</td>\n",
       "      <td>5327</td>\n",
       "      <td>male</td>\n",
       "      <td>NCBITaxon:9606</td>\n",
       "      <td>Homo sapiens</td>\n",
       "      <td>PATO_0000461</td>\n",
       "      <td>normal</td>\n",
       "      <td>UBERON:0000955</td>\n",
       "      <td>brain</td>\n",
       "      <td>EFO:0010891</td>\n",
       "      <td>scATAC-seq</td>\n",
       "      <td>DerivedType_Organoid</td>\n",
       "    </tr>\n",
       "    <tr>\n",
       "      <th>2</th>\n",
       "      <td>AAACGAAAGACCTATC-1_1m-ATAC</td>\n",
       "      <td>ATAC-Org1</td>\n",
       "      <td>Mito 210 c1 b5</td>\n",
       "      <td>2070</td>\n",
       "      <td>2556</td>\n",
       "      <td>male</td>\n",
       "      <td>NCBITaxon:9606</td>\n",
       "      <td>Homo sapiens</td>\n",
       "      <td>PATO_0000461</td>\n",
       "      <td>normal</td>\n",
       "      <td>UBERON:0000955</td>\n",
       "      <td>brain</td>\n",
       "      <td>EFO:0010891</td>\n",
       "      <td>scATAC-seq</td>\n",
       "      <td>DerivedType_Organoid</td>\n",
       "    </tr>\n",
       "    <tr>\n",
       "      <th>3</th>\n",
       "      <td>AAACGAAAGATTGACA-2_1m-ATAC</td>\n",
       "      <td>ATAC-Org2</td>\n",
       "      <td>Mito 210 c1 b5</td>\n",
       "      <td>2708</td>\n",
       "      <td>3334</td>\n",
       "      <td>male</td>\n",
       "      <td>NCBITaxon:9606</td>\n",
       "      <td>Homo sapiens</td>\n",
       "      <td>PATO_0000461</td>\n",
       "      <td>normal</td>\n",
       "      <td>UBERON:0000955</td>\n",
       "      <td>brain</td>\n",
       "      <td>EFO:0010891</td>\n",
       "      <td>scATAC-seq</td>\n",
       "      <td>DerivedType_Organoid</td>\n",
       "    </tr>\n",
       "    <tr>\n",
       "      <th>4</th>\n",
       "      <td>AAACGAAAGCGTCTGC-1_1m-ATAC</td>\n",
       "      <td>ATAC-Org1</td>\n",
       "      <td>Mito 210 c1 b5</td>\n",
       "      <td>3970</td>\n",
       "      <td>5339</td>\n",
       "      <td>male</td>\n",
       "      <td>NCBITaxon:9606</td>\n",
       "      <td>Homo sapiens</td>\n",
       "      <td>PATO_0000461</td>\n",
       "      <td>normal</td>\n",
       "      <td>UBERON:0000955</td>\n",
       "      <td>brain</td>\n",
       "      <td>EFO:0010891</td>\n",
       "      <td>scATAC-seq</td>\n",
       "      <td>DerivedType_Organoid</td>\n",
       "    </tr>\n",
       "    <tr>\n",
       "      <th>...</th>\n",
       "      <td>...</td>\n",
       "      <td>...</td>\n",
       "      <td>...</td>\n",
       "      <td>...</td>\n",
       "      <td>...</td>\n",
       "      <td>...</td>\n",
       "      <td>...</td>\n",
       "      <td>...</td>\n",
       "      <td>...</td>\n",
       "      <td>...</td>\n",
       "      <td>...</td>\n",
       "      <td>...</td>\n",
       "      <td>...</td>\n",
       "      <td>...</td>\n",
       "      <td>...</td>\n",
       "    </tr>\n",
       "    <tr>\n",
       "      <th>777088</th>\n",
       "      <td>PCW18_TTTGTTGGTCACCGAC-1_fetal</td>\n",
       "      <td>Fetal-4-PCW18</td>\n",
       "      <td>Fetal-4-PCW18</td>\n",
       "      <td>2298</td>\n",
       "      <td>5225</td>\n",
       "      <td>unknown</td>\n",
       "      <td>NCBITaxon:9606</td>\n",
       "      <td>Homo sapiens</td>\n",
       "      <td>PATO_0000461</td>\n",
       "      <td>normal</td>\n",
       "      <td>UBERON:0000955</td>\n",
       "      <td>brain</td>\n",
       "      <td>EFO:0008995</td>\n",
       "      <td>10X sequencing</td>\n",
       "      <td>PrimaryBioSample_Tissue</td>\n",
       "    </tr>\n",
       "    <tr>\n",
       "      <th>777089</th>\n",
       "      <td>PCW18_TTTGTTGGTGACAGCA-1_fetal</td>\n",
       "      <td>Fetal-4-PCW18</td>\n",
       "      <td>Fetal-4-PCW18</td>\n",
       "      <td>6308</td>\n",
       "      <td>24794</td>\n",
       "      <td>unknown</td>\n",
       "      <td>NCBITaxon:9606</td>\n",
       "      <td>Homo sapiens</td>\n",
       "      <td>PATO_0000461</td>\n",
       "      <td>normal</td>\n",
       "      <td>UBERON:0000955</td>\n",
       "      <td>brain</td>\n",
       "      <td>EFO:0008995</td>\n",
       "      <td>10X sequencing</td>\n",
       "      <td>PrimaryBioSample_Tissue</td>\n",
       "    </tr>\n",
       "    <tr>\n",
       "      <th>777090</th>\n",
       "      <td>PCW18_TTTGTTGGTTAGAAAC-1_fetal</td>\n",
       "      <td>Fetal-4-PCW18</td>\n",
       "      <td>Fetal-4-PCW18</td>\n",
       "      <td>1142</td>\n",
       "      <td>2062</td>\n",
       "      <td>unknown</td>\n",
       "      <td>NCBITaxon:9606</td>\n",
       "      <td>Homo sapiens</td>\n",
       "      <td>PATO_0000461</td>\n",
       "      <td>normal</td>\n",
       "      <td>UBERON:0000955</td>\n",
       "      <td>brain</td>\n",
       "      <td>EFO:0008995</td>\n",
       "      <td>10X sequencing</td>\n",
       "      <td>PrimaryBioSample_Tissue</td>\n",
       "    </tr>\n",
       "    <tr>\n",
       "      <th>777091</th>\n",
       "      <td>PCW18_TTTGTTGTCACCCTTG-1_fetal</td>\n",
       "      <td>Fetal-4-PCW18</td>\n",
       "      <td>Fetal-4-PCW18</td>\n",
       "      <td>2881</td>\n",
       "      <td>7919</td>\n",
       "      <td>unknown</td>\n",
       "      <td>NCBITaxon:9606</td>\n",
       "      <td>Homo sapiens</td>\n",
       "      <td>PATO_0000461</td>\n",
       "      <td>normal</td>\n",
       "      <td>UBERON:0000955</td>\n",
       "      <td>brain</td>\n",
       "      <td>EFO:0008995</td>\n",
       "      <td>10X sequencing</td>\n",
       "      <td>PrimaryBioSample_Tissue</td>\n",
       "    </tr>\n",
       "    <tr>\n",
       "      <th>777092</th>\n",
       "      <td>PCW18_TTTGTTGTCACTTGGA-1_fetal</td>\n",
       "      <td>Fetal-4-PCW18</td>\n",
       "      <td>Fetal-4-PCW18</td>\n",
       "      <td>2535</td>\n",
       "      <td>6155</td>\n",
       "      <td>unknown</td>\n",
       "      <td>NCBITaxon:9606</td>\n",
       "      <td>Homo sapiens</td>\n",
       "      <td>PATO_0000461</td>\n",
       "      <td>normal</td>\n",
       "      <td>UBERON:0000955</td>\n",
       "      <td>brain</td>\n",
       "      <td>EFO:0008995</td>\n",
       "      <td>10X sequencing</td>\n",
       "      <td>PrimaryBioSample_Tissue</td>\n",
       "    </tr>\n",
       "  </tbody>\n",
       "</table>\n",
       "<p>777093 rows × 15 columns</p>\n",
       "</div>"
      ]
     },
     "execution_count": 3,
     "metadata": {},
     "output_type": "execute_result"
    }
   ],
   "execution_count": 3
  },
  {
   "metadata": {
    "ExecuteTime": {
     "end_time": "2024-07-08T11:29:32.907415Z",
     "start_time": "2024-07-08T11:29:32.613635Z"
    }
   },
   "cell_type": "code",
   "source": [
    "# Drop the first row of the dataframe\n",
    "meta.drop(index=0, axis=0, inplace=True) # index=0 specifies the row to drop, axis=0 indicates that it is a row, inplace=True modifies the dataframe rather than returning a new dataframe\n",
    "# Drop the specified columns\n",
    "meta.drop(columns=['species','species__ontology_label',\n",
    "                   'disease','disease__ontology_label',\n",
    "                   'organ','organ__ontology_label',\n",
    "                   'library_preparation_protocol'], inplace=True) # List of columns to drop\n",
    "# Rename the specified columns using a dictionary where the keys are current column names and values are the new names\n",
    "meta.rename(columns={'NAME':'CellID', 'biosample_id':'SampleID'}, inplace=True)\n",
    "meta"
   ],
   "id": "38de736be7510f4d",
   "outputs": [
    {
     "data": {
      "text/plain": [
       "                                CellID       SampleID        donor_id nGene  \\\n",
       "1           AAACGAAAGACACAAT-3_1m-ATAC      ATAC-Org3  Mito 210 c1 b5  3850   \n",
       "2           AAACGAAAGACCTATC-1_1m-ATAC      ATAC-Org1  Mito 210 c1 b5  2070   \n",
       "3           AAACGAAAGATTGACA-2_1m-ATAC      ATAC-Org2  Mito 210 c1 b5  2708   \n",
       "4           AAACGAAAGCGTCTGC-1_1m-ATAC      ATAC-Org1  Mito 210 c1 b5  3970   \n",
       "5           AAACGAAAGGATATCA-3_1m-ATAC      ATAC-Org3  Mito 210 c1 b5  2590   \n",
       "...                                ...            ...             ...   ...   \n",
       "777088  PCW18_TTTGTTGGTCACCGAC-1_fetal  Fetal-4-PCW18   Fetal-4-PCW18  2298   \n",
       "777089  PCW18_TTTGTTGGTGACAGCA-1_fetal  Fetal-4-PCW18   Fetal-4-PCW18  6308   \n",
       "777090  PCW18_TTTGTTGGTTAGAAAC-1_fetal  Fetal-4-PCW18   Fetal-4-PCW18  1142   \n",
       "777091  PCW18_TTTGTTGTCACCCTTG-1_fetal  Fetal-4-PCW18   Fetal-4-PCW18  2881   \n",
       "777092  PCW18_TTTGTTGTCACTTGGA-1_fetal  Fetal-4-PCW18   Fetal-4-PCW18  2535   \n",
       "\n",
       "         nUMI      sex library_preparation_protocol__ontology_label  \\\n",
       "1        5327     male                                   scATAC-seq   \n",
       "2        2556     male                                   scATAC-seq   \n",
       "3        3334     male                                   scATAC-seq   \n",
       "4        5339     male                                   scATAC-seq   \n",
       "5        3279     male                                   scATAC-seq   \n",
       "...       ...      ...                                          ...   \n",
       "777088   5225  unknown                               10X sequencing   \n",
       "777089  24794  unknown                               10X sequencing   \n",
       "777090   2062  unknown                               10X sequencing   \n",
       "777091   7919  unknown                               10X sequencing   \n",
       "777092   6155  unknown                               10X sequencing   \n",
       "\n",
       "                 biosample_type  \n",
       "1          DerivedType_Organoid  \n",
       "2          DerivedType_Organoid  \n",
       "3          DerivedType_Organoid  \n",
       "4          DerivedType_Organoid  \n",
       "5          DerivedType_Organoid  \n",
       "...                         ...  \n",
       "777088  PrimaryBioSample_Tissue  \n",
       "777089  PrimaryBioSample_Tissue  \n",
       "777090  PrimaryBioSample_Tissue  \n",
       "777091  PrimaryBioSample_Tissue  \n",
       "777092  PrimaryBioSample_Tissue  \n",
       "\n",
       "[777092 rows x 8 columns]"
      ],
      "text/html": [
       "<div>\n",
       "<style scoped>\n",
       "    .dataframe tbody tr th:only-of-type {\n",
       "        vertical-align: middle;\n",
       "    }\n",
       "\n",
       "    .dataframe tbody tr th {\n",
       "        vertical-align: top;\n",
       "    }\n",
       "\n",
       "    .dataframe thead th {\n",
       "        text-align: right;\n",
       "    }\n",
       "</style>\n",
       "<table border=\"1\" class=\"dataframe\">\n",
       "  <thead>\n",
       "    <tr style=\"text-align: right;\">\n",
       "      <th></th>\n",
       "      <th>CellID</th>\n",
       "      <th>SampleID</th>\n",
       "      <th>donor_id</th>\n",
       "      <th>nGene</th>\n",
       "      <th>nUMI</th>\n",
       "      <th>sex</th>\n",
       "      <th>library_preparation_protocol__ontology_label</th>\n",
       "      <th>biosample_type</th>\n",
       "    </tr>\n",
       "  </thead>\n",
       "  <tbody>\n",
       "    <tr>\n",
       "      <th>1</th>\n",
       "      <td>AAACGAAAGACACAAT-3_1m-ATAC</td>\n",
       "      <td>ATAC-Org3</td>\n",
       "      <td>Mito 210 c1 b5</td>\n",
       "      <td>3850</td>\n",
       "      <td>5327</td>\n",
       "      <td>male</td>\n",
       "      <td>scATAC-seq</td>\n",
       "      <td>DerivedType_Organoid</td>\n",
       "    </tr>\n",
       "    <tr>\n",
       "      <th>2</th>\n",
       "      <td>AAACGAAAGACCTATC-1_1m-ATAC</td>\n",
       "      <td>ATAC-Org1</td>\n",
       "      <td>Mito 210 c1 b5</td>\n",
       "      <td>2070</td>\n",
       "      <td>2556</td>\n",
       "      <td>male</td>\n",
       "      <td>scATAC-seq</td>\n",
       "      <td>DerivedType_Organoid</td>\n",
       "    </tr>\n",
       "    <tr>\n",
       "      <th>3</th>\n",
       "      <td>AAACGAAAGATTGACA-2_1m-ATAC</td>\n",
       "      <td>ATAC-Org2</td>\n",
       "      <td>Mito 210 c1 b5</td>\n",
       "      <td>2708</td>\n",
       "      <td>3334</td>\n",
       "      <td>male</td>\n",
       "      <td>scATAC-seq</td>\n",
       "      <td>DerivedType_Organoid</td>\n",
       "    </tr>\n",
       "    <tr>\n",
       "      <th>4</th>\n",
       "      <td>AAACGAAAGCGTCTGC-1_1m-ATAC</td>\n",
       "      <td>ATAC-Org1</td>\n",
       "      <td>Mito 210 c1 b5</td>\n",
       "      <td>3970</td>\n",
       "      <td>5339</td>\n",
       "      <td>male</td>\n",
       "      <td>scATAC-seq</td>\n",
       "      <td>DerivedType_Organoid</td>\n",
       "    </tr>\n",
       "    <tr>\n",
       "      <th>5</th>\n",
       "      <td>AAACGAAAGGATATCA-3_1m-ATAC</td>\n",
       "      <td>ATAC-Org3</td>\n",
       "      <td>Mito 210 c1 b5</td>\n",
       "      <td>2590</td>\n",
       "      <td>3279</td>\n",
       "      <td>male</td>\n",
       "      <td>scATAC-seq</td>\n",
       "      <td>DerivedType_Organoid</td>\n",
       "    </tr>\n",
       "    <tr>\n",
       "      <th>...</th>\n",
       "      <td>...</td>\n",
       "      <td>...</td>\n",
       "      <td>...</td>\n",
       "      <td>...</td>\n",
       "      <td>...</td>\n",
       "      <td>...</td>\n",
       "      <td>...</td>\n",
       "      <td>...</td>\n",
       "    </tr>\n",
       "    <tr>\n",
       "      <th>777088</th>\n",
       "      <td>PCW18_TTTGTTGGTCACCGAC-1_fetal</td>\n",
       "      <td>Fetal-4-PCW18</td>\n",
       "      <td>Fetal-4-PCW18</td>\n",
       "      <td>2298</td>\n",
       "      <td>5225</td>\n",
       "      <td>unknown</td>\n",
       "      <td>10X sequencing</td>\n",
       "      <td>PrimaryBioSample_Tissue</td>\n",
       "    </tr>\n",
       "    <tr>\n",
       "      <th>777089</th>\n",
       "      <td>PCW18_TTTGTTGGTGACAGCA-1_fetal</td>\n",
       "      <td>Fetal-4-PCW18</td>\n",
       "      <td>Fetal-4-PCW18</td>\n",
       "      <td>6308</td>\n",
       "      <td>24794</td>\n",
       "      <td>unknown</td>\n",
       "      <td>10X sequencing</td>\n",
       "      <td>PrimaryBioSample_Tissue</td>\n",
       "    </tr>\n",
       "    <tr>\n",
       "      <th>777090</th>\n",
       "      <td>PCW18_TTTGTTGGTTAGAAAC-1_fetal</td>\n",
       "      <td>Fetal-4-PCW18</td>\n",
       "      <td>Fetal-4-PCW18</td>\n",
       "      <td>1142</td>\n",
       "      <td>2062</td>\n",
       "      <td>unknown</td>\n",
       "      <td>10X sequencing</td>\n",
       "      <td>PrimaryBioSample_Tissue</td>\n",
       "    </tr>\n",
       "    <tr>\n",
       "      <th>777091</th>\n",
       "      <td>PCW18_TTTGTTGTCACCCTTG-1_fetal</td>\n",
       "      <td>Fetal-4-PCW18</td>\n",
       "      <td>Fetal-4-PCW18</td>\n",
       "      <td>2881</td>\n",
       "      <td>7919</td>\n",
       "      <td>unknown</td>\n",
       "      <td>10X sequencing</td>\n",
       "      <td>PrimaryBioSample_Tissue</td>\n",
       "    </tr>\n",
       "    <tr>\n",
       "      <th>777092</th>\n",
       "      <td>PCW18_TTTGTTGTCACTTGGA-1_fetal</td>\n",
       "      <td>Fetal-4-PCW18</td>\n",
       "      <td>Fetal-4-PCW18</td>\n",
       "      <td>2535</td>\n",
       "      <td>6155</td>\n",
       "      <td>unknown</td>\n",
       "      <td>10X sequencing</td>\n",
       "      <td>PrimaryBioSample_Tissue</td>\n",
       "    </tr>\n",
       "  </tbody>\n",
       "</table>\n",
       "<p>777092 rows × 8 columns</p>\n",
       "</div>"
      ]
     },
     "execution_count": 4,
     "metadata": {},
     "output_type": "execute_result"
    }
   ],
   "execution_count": 4
  },
  {
   "metadata": {},
   "cell_type": "markdown",
   "source": "Identify and count the combinations of protocols and sample type that have been used in the study.",
   "id": "1aac9e1ed2802cc0"
  },
  {
   "cell_type": "code",
   "id": "2486fafa",
   "metadata": {
    "ExecuteTime": {
     "end_time": "2024-07-08T11:29:33.020672Z",
     "start_time": "2024-07-08T11:29:32.908948Z"
    }
   },
   "source": [
    "# Select the two columns and count unique combinations\n",
    "meta[['library_preparation_protocol__ontology_label','biosample_type']].value_counts()"
   ],
   "outputs": [
    {
     "data": {
      "text/plain": [
       "library_preparation_protocol__ontology_label  biosample_type         \n",
       "10X sequencing                                DerivedType_Organoid       601747\n",
       "                                              PrimaryBioSample_Tissue     60806\n",
       "single cell sequencing                        DerivedType_Organoid        53232\n",
       "scATAC-seq                                    DerivedType_Organoid        38017\n",
       "Slide-seq                                     DerivedType_Organoid        23290\n",
       "Name: count, dtype: int64"
      ]
     },
     "execution_count": 5,
     "metadata": {},
     "output_type": "execute_result"
    }
   ],
   "execution_count": 5
  },
  {
   "metadata": {},
   "cell_type": "markdown",
   "source": "Identify what samples can be found in the dataframe.",
   "id": "75281d78548d675a"
  },
  {
   "cell_type": "code",
   "id": "3402547f",
   "metadata": {
    "ExecuteTime": {
     "end_time": "2024-07-08T11:29:33.050663Z",
     "start_time": "2024-07-08T11:29:33.021727Z"
    }
   },
   "source": [
    "# Find the unique values of the SampleID column\n",
    "meta['SampleID'].unique()"
   ],
   "outputs": [
    {
     "data": {
      "text/plain": [
       "array(['ATAC-Org3', 'ATAC-Org1', 'ATAC-Org2', 'ATAC-Org5', 'ATAC-Org6',\n",
       "       'ATAC-Org4', 'ATAC-Org8', 'ATAC-Org9', 'ATAC-Org7',\n",
       "       'SlideSeq-1m-Org1', 'SlideSeq-1m-Org2', 'SlideSeq-1m-Org4',\n",
       "       'SlideSeq-1m-Org3', 'SlideSeq-2m-Org1', 'SlideSeq-2m-Org2',\n",
       "       'SlideSeq-2m-Org3', 'SlideSeq-3m-Org1', 'SlideSeq-3m-Org2',\n",
       "       'SlideSeq-3m-Org3', 'Org1', 'Org2', 'Org3', 'Org4', 'Org5', 'Org6',\n",
       "       'Org7', 'Org8', 'Org9', 'Org10', 'Org11', 'Org12', 'Org13',\n",
       "       'Org14', 'Org15', 'Org16', 'Org17', 'Org18', 'Org19', 'Org20',\n",
       "       'Org21', 'Org22', 'Org23', 'Org24', 'Org25', 'Org26', 'Org27',\n",
       "       'Org28', 'Org29', 'Org30', 'Org31', 'Org32', 'Org33', 'Org40',\n",
       "       'Org41', 'Org42', 'Org43', 'Org44', 'Org45', 'Org34', 'Org35',\n",
       "       'Org36', 'Org37', 'Org38', 'Org39', 'Org46', 'Org47', 'Org48',\n",
       "       'Org49', 'Org50', 'Org51', 'Org55', 'Org56', 'Org57', 'Org52',\n",
       "       'Org53', 'Org54', 'Org58', 'Org59', 'Org60', 'Org61', 'Org62',\n",
       "       'Org63', 'Org64', 'Org65', 'Org66', 'Org67', 'Org68', 'Org69',\n",
       "       'Org76', 'Org77', 'Org78', 'Org70', 'Org71', 'Org72', 'Org73',\n",
       "       'Org74', 'Org75', 'Org79', 'Org80', 'Org81', 'Org82', 'Org83',\n",
       "       'Share-1m-4', 'Share-1m-5', 'Share-1m-6', 'Share-2m-7',\n",
       "       'Share-2m-8', 'Share-2m-9', 'Share-d23-1', 'Share-d23-2',\n",
       "       'Share-d23-3', 'Share-3m-10', 'Share-3m-11', 'Share-3m-12',\n",
       "       'Quad-1', 'Quad-2', 'Quad-3', 'Quad-4', 'Quad-5', 'Quad-6',\n",
       "       'Quad-7', 'Quad-8', 'Fetal-1-PCW14', 'Fetal-2-PCW15',\n",
       "       'Fetal-3-PCW16', 'Fetal-4-PCW18'], dtype=object)"
      ]
     },
     "execution_count": 6,
     "metadata": {},
     "output_type": "execute_result"
    }
   ],
   "execution_count": 6
  },
  {
   "metadata": {},
   "cell_type": "markdown",
   "source": [
    "Read in the file that contains the 23 days RNA-Seq data to generate the counts matrix.\n",
    "\n",
    "*Notes:*\n",
    "* **Matrix Market file:** a standardised file format for storing matrices, especially sparse ones, used for efficient storage and exchange.\n",
    "* **Sparse matrix:** a matrix predominantly composed of zero elements, stored in specialised formats to save memory and improve computational efficiency.\n",
    "* **Compressed Sparse Row (CSR) format:** a popular method for storing sparse matrices efficiently. This format is particularly advantageous for arithmetic operations, row slicing, and matrix-vector products."
   ],
   "id": "7134c96f26ae6778"
  },
  {
   "cell_type": "code",
   "id": "ee7766fb",
   "metadata": {
    "colab": {
     "base_uri": "https://localhost:8080/",
     "height": 161
    },
    "executionInfo": {
     "elapsed": 595,
     "status": "ok",
     "timestamp": 1703199075524,
     "user": {
      "displayName": "Dean Lee",
      "userId": "08770626040323150090"
     },
     "user_tz": 300
    },
    "id": "ee7766fb",
    "outputId": "0e3de2e9-fb82-49c2-f4e8-0810c399bbcc",
    "ExecuteTime": {
     "end_time": "2024-07-08T11:29:37.402237Z",
     "start_time": "2024-07-08T11:29:33.051588Z"
    }
   },
   "source": [
    "# Read the matrix from the file\n",
    "counts = scipy.io.mmread('./data/expression_23days.txt') # scipy.io.mmread is function from the scipy library that reads a Matrix Market file and returns a sparse matrix\n",
    "# Transpose the matrix (swap its rows and columns)\n",
    "counts = counts.transpose()\n",
    "# Convert the transposed matrix to a CSR format\n",
    "counts = scipy.sparse.csr_matrix(counts)\n",
    "# Returns the shape of the matrix as a tuple, representing the number of rows and columns\n",
    "counts.shape"
   ],
   "outputs": [
    {
     "data": {
      "text/plain": [
       "(29736, 33694)"
      ]
     },
     "execution_count": 7,
     "metadata": {},
     "output_type": "execute_result"
    }
   ],
   "execution_count": 7
  },
  {
   "metadata": {},
   "cell_type": "markdown",
   "source": [
    "The `counts` matrix contains 29,736 rows and 33,694 rows.\n",
    "\n",
    "Read in the file that contains the barcodes for each cell analysed at 23 days."
   ],
   "id": "e8c187254baf396a"
  },
  {
   "cell_type": "code",
   "id": "4b81897b",
   "metadata": {
    "ExecuteTime": {
     "end_time": "2024-07-08T11:29:37.437350Z",
     "start_time": "2024-07-08T11:29:37.404694Z"
    }
   },
   "source": [
    "barcodes = pd.read_csv('./data/NormExpression_23days_barcodes.txt', sep='\\t', header=None) # Specify that the file does not have a header row\n",
    "# Rename the column\n",
    "barcodes.rename(columns={0:'CellID'}, inplace=True)\n",
    "barcodes"
   ],
   "outputs": [
    {
     "data": {
      "text/plain": [
       "                           CellID\n",
       "0      1_AAACGAACACGTGAGA-1_1_23d\n",
       "1      1_AAACGAAGTCGAAACG-1_1_23d\n",
       "2      1_AAACGAAGTGGCAGAT-1_1_23d\n",
       "3      1_AAACGAAGTGGTTCTA-1_1_23d\n",
       "4      1_AAACGAAGTTGGCCGT-1_1_23d\n",
       "...                           ...\n",
       "29731  3_TTTGGTTTCGGAATGG-1_2_23d\n",
       "29732  3_TTTGGTTTCGGTTAGT-1_2_23d\n",
       "29733  3_TTTGTTGAGACCATAA-1_2_23d\n",
       "29734  3_TTTGTTGAGAGAAGGT-1_2_23d\n",
       "29735  3_TTTGTTGTCCATGAGT-1_2_23d\n",
       "\n",
       "[29736 rows x 1 columns]"
      ],
      "text/html": [
       "<div>\n",
       "<style scoped>\n",
       "    .dataframe tbody tr th:only-of-type {\n",
       "        vertical-align: middle;\n",
       "    }\n",
       "\n",
       "    .dataframe tbody tr th {\n",
       "        vertical-align: top;\n",
       "    }\n",
       "\n",
       "    .dataframe thead th {\n",
       "        text-align: right;\n",
       "    }\n",
       "</style>\n",
       "<table border=\"1\" class=\"dataframe\">\n",
       "  <thead>\n",
       "    <tr style=\"text-align: right;\">\n",
       "      <th></th>\n",
       "      <th>CellID</th>\n",
       "    </tr>\n",
       "  </thead>\n",
       "  <tbody>\n",
       "    <tr>\n",
       "      <th>0</th>\n",
       "      <td>1_AAACGAACACGTGAGA-1_1_23d</td>\n",
       "    </tr>\n",
       "    <tr>\n",
       "      <th>1</th>\n",
       "      <td>1_AAACGAAGTCGAAACG-1_1_23d</td>\n",
       "    </tr>\n",
       "    <tr>\n",
       "      <th>2</th>\n",
       "      <td>1_AAACGAAGTGGCAGAT-1_1_23d</td>\n",
       "    </tr>\n",
       "    <tr>\n",
       "      <th>3</th>\n",
       "      <td>1_AAACGAAGTGGTTCTA-1_1_23d</td>\n",
       "    </tr>\n",
       "    <tr>\n",
       "      <th>4</th>\n",
       "      <td>1_AAACGAAGTTGGCCGT-1_1_23d</td>\n",
       "    </tr>\n",
       "    <tr>\n",
       "      <th>...</th>\n",
       "      <td>...</td>\n",
       "    </tr>\n",
       "    <tr>\n",
       "      <th>29731</th>\n",
       "      <td>3_TTTGGTTTCGGAATGG-1_2_23d</td>\n",
       "    </tr>\n",
       "    <tr>\n",
       "      <th>29732</th>\n",
       "      <td>3_TTTGGTTTCGGTTAGT-1_2_23d</td>\n",
       "    </tr>\n",
       "    <tr>\n",
       "      <th>29733</th>\n",
       "      <td>3_TTTGTTGAGACCATAA-1_2_23d</td>\n",
       "    </tr>\n",
       "    <tr>\n",
       "      <th>29734</th>\n",
       "      <td>3_TTTGTTGAGAGAAGGT-1_2_23d</td>\n",
       "    </tr>\n",
       "    <tr>\n",
       "      <th>29735</th>\n",
       "      <td>3_TTTGTTGTCCATGAGT-1_2_23d</td>\n",
       "    </tr>\n",
       "  </tbody>\n",
       "</table>\n",
       "<p>29736 rows × 1 columns</p>\n",
       "</div>"
      ]
     },
     "execution_count": 8,
     "metadata": {},
     "output_type": "execute_result"
    }
   ],
   "execution_count": 8
  },
  {
   "metadata": {},
   "cell_type": "markdown",
   "source": "Read in the file that contains the genes analysed at 23 days.",
   "id": "cd74c12287a92cb"
  },
  {
   "cell_type": "code",
   "id": "23c71bb7",
   "metadata": {
    "ExecuteTime": {
     "end_time": "2024-07-08T11:29:37.453625Z",
     "start_time": "2024-07-08T11:29:37.438101Z"
    }
   },
   "source": [
    "genes = pd.read_csv('./data/NormExpression_23days_genes.txt', sep='\\t', header=None)\n",
    "# Rename the column\n",
    "genes.rename(columns={0:'Genes'}, inplace=True)\n",
    "genes"
   ],
   "outputs": [
    {
     "data": {
      "text/plain": [
       "              Genes\n",
       "0      RP11-34P13.3\n",
       "1           FAM138A\n",
       "2             OR4F5\n",
       "3      RP11-34P13.7\n",
       "4      RP11-34P13.8\n",
       "...             ...\n",
       "33689    AC233755.2\n",
       "33690    AC233755.1\n",
       "33691    AC240274.1\n",
       "33692    AC213203.1\n",
       "33693       FAM231B\n",
       "\n",
       "[33694 rows x 1 columns]"
      ],
      "text/html": [
       "<div>\n",
       "<style scoped>\n",
       "    .dataframe tbody tr th:only-of-type {\n",
       "        vertical-align: middle;\n",
       "    }\n",
       "\n",
       "    .dataframe tbody tr th {\n",
       "        vertical-align: top;\n",
       "    }\n",
       "\n",
       "    .dataframe thead th {\n",
       "        text-align: right;\n",
       "    }\n",
       "</style>\n",
       "<table border=\"1\" class=\"dataframe\">\n",
       "  <thead>\n",
       "    <tr style=\"text-align: right;\">\n",
       "      <th></th>\n",
       "      <th>Genes</th>\n",
       "    </tr>\n",
       "  </thead>\n",
       "  <tbody>\n",
       "    <tr>\n",
       "      <th>0</th>\n",
       "      <td>RP11-34P13.3</td>\n",
       "    </tr>\n",
       "    <tr>\n",
       "      <th>1</th>\n",
       "      <td>FAM138A</td>\n",
       "    </tr>\n",
       "    <tr>\n",
       "      <th>2</th>\n",
       "      <td>OR4F5</td>\n",
       "    </tr>\n",
       "    <tr>\n",
       "      <th>3</th>\n",
       "      <td>RP11-34P13.7</td>\n",
       "    </tr>\n",
       "    <tr>\n",
       "      <th>4</th>\n",
       "      <td>RP11-34P13.8</td>\n",
       "    </tr>\n",
       "    <tr>\n",
       "      <th>...</th>\n",
       "      <td>...</td>\n",
       "    </tr>\n",
       "    <tr>\n",
       "      <th>33689</th>\n",
       "      <td>AC233755.2</td>\n",
       "    </tr>\n",
       "    <tr>\n",
       "      <th>33690</th>\n",
       "      <td>AC233755.1</td>\n",
       "    </tr>\n",
       "    <tr>\n",
       "      <th>33691</th>\n",
       "      <td>AC240274.1</td>\n",
       "    </tr>\n",
       "    <tr>\n",
       "      <th>33692</th>\n",
       "      <td>AC213203.1</td>\n",
       "    </tr>\n",
       "    <tr>\n",
       "      <th>33693</th>\n",
       "      <td>FAM231B</td>\n",
       "    </tr>\n",
       "  </tbody>\n",
       "</table>\n",
       "<p>33694 rows × 1 columns</p>\n",
       "</div>"
      ]
     },
     "execution_count": 9,
     "metadata": {},
     "output_type": "execute_result"
    }
   ],
   "execution_count": 9
  },
  {
   "metadata": {},
   "cell_type": "markdown",
   "source": "Count the number of cells in the `barcode` dataframe that also exist in the `meta` dataframe (i.e. count the cells in the `barcode` dataframe that we have metadata for).",
   "id": "8a29d2591af14658"
  },
  {
   "cell_type": "code",
   "id": "32a13b25",
   "metadata": {
    "ExecuteTime": {
     "end_time": "2024-07-08T11:29:37.618252Z",
     "start_time": "2024-07-08T11:29:37.456778Z"
    }
   },
   "source": [
    "# Check each element in the CellID column of barcodes to see if it is present in the CellID column of meta\n",
    "# This returns a boolean Series of the same length as barcodes['CellID'], where each element is True if the corresponding CellID is found in meta[`CellID`]\n",
    "barcodes['CellID'].isin(meta['CellID'])"
   ],
   "outputs": [
    {
     "data": {
      "text/plain": [
       "0        True\n",
       "1        True\n",
       "2        True\n",
       "3        True\n",
       "4        True\n",
       "         ... \n",
       "29731    True\n",
       "29732    True\n",
       "29733    True\n",
       "29734    True\n",
       "29735    True\n",
       "Name: CellID, Length: 29736, dtype: bool"
      ]
     },
     "execution_count": 10,
     "metadata": {},
     "output_type": "execute_result"
    }
   ],
   "execution_count": 10
  },
  {
   "metadata": {
    "ExecuteTime": {
     "end_time": "2024-07-08T11:29:37.699954Z",
     "start_time": "2024-07-08T11:29:37.619543Z"
    }
   },
   "cell_type": "code",
   "source": [
    "# Sum the True values in the boolean Series (where True is treated as 1 and False is treated as 0)\n",
    "sum(barcodes['CellID'].isin(meta['CellID']))"
   ],
   "id": "e7aca47af83beaf7",
   "outputs": [
    {
     "data": {
      "text/plain": [
       "29736"
      ]
     },
     "execution_count": 11,
     "metadata": {},
     "output_type": "execute_result"
    }
   ],
   "execution_count": 11
  },
  {
   "metadata": {},
   "cell_type": "markdown",
   "source": "Create a filtered `meta` dataframe that contains only the cells analysed at 23 days.",
   "id": "ad11e57810643adf"
  },
  {
   "cell_type": "code",
   "id": "046c54f3",
   "metadata": {
    "ExecuteTime": {
     "end_time": "2024-07-08T11:29:37.759144Z",
     "start_time": "2024-07-08T11:29:37.700965Z"
    }
   },
   "source": [
    "# Check if each CellID in the meta dataframe exists in the barcodes dataframe, returning a boolean Series\n",
    "a = meta['CellID'].isin(barcodes['CellID'])\n",
    "# Use the boolean Series, a, to filter the rows of the meta dataframe - only rows where a is True are selected\n",
    "b = meta[a]\n",
    "# Merge the barcodes dataframe with the filtered meta dataframe based on the CellID column\n",
    "# This is a left join, meaning all rows in the barcodes dataframe are kept, and matching rows from b are included\n",
    "# If there is no match in b, the resulting dataframe will have NaN for these columns\n",
    "meta_d23 = pd.merge(barcodes, b, on='CellID', how='left')\n",
    "meta_d23\n",
    "\n",
    "#a = meta['SampleID'].isin(['Org1', 'Org2', 'Org3', 'Org4', 'Org5', 'Org6'])\n",
    "#meta_d23 = meta[a]\n",
    "#meta_d23"
   ],
   "outputs": [
    {
     "data": {
      "text/plain": [
       "                           CellID SampleID        donor_id nGene   nUMI   sex  \\\n",
       "0      1_AAACGAACACGTGAGA-1_1_23d     Org1  Mito 210 c1 b1   536   3724  male   \n",
       "1      1_AAACGAAGTCGAAACG-1_1_23d     Org1  Mito 210 c1 b1  2310   9184  male   \n",
       "2      1_AAACGAAGTGGCAGAT-1_1_23d     Org1  Mito 210 c1 b1  2070   6359  male   \n",
       "3      1_AAACGAAGTGGTTCTA-1_1_23d     Org1  Mito 210 c1 b1  1292   3468  male   \n",
       "4      1_AAACGAAGTTGGCCGT-1_1_23d     Org1  Mito 210 c1 b1   832   1809  male   \n",
       "...                           ...      ...             ...   ...    ...   ...   \n",
       "29731  3_TTTGGTTTCGGAATGG-1_2_23d     Org6      PGP1 c1 b2   995   1825  male   \n",
       "29732  3_TTTGGTTTCGGTTAGT-1_2_23d     Org6      PGP1 c1 b2  3449  13964  male   \n",
       "29733  3_TTTGTTGAGACCATAA-1_2_23d     Org6      PGP1 c1 b2  1382   3670  male   \n",
       "29734  3_TTTGTTGAGAGAAGGT-1_2_23d     Org6      PGP1 c1 b2  1331   3713  male   \n",
       "29735  3_TTTGTTGTCCATGAGT-1_2_23d     Org6      PGP1 c1 b2  1958   5589  male   \n",
       "\n",
       "      library_preparation_protocol__ontology_label        biosample_type  \n",
       "0                                   10X sequencing  DerivedType_Organoid  \n",
       "1                                   10X sequencing  DerivedType_Organoid  \n",
       "2                                   10X sequencing  DerivedType_Organoid  \n",
       "3                                   10X sequencing  DerivedType_Organoid  \n",
       "4                                   10X sequencing  DerivedType_Organoid  \n",
       "...                                            ...                   ...  \n",
       "29731                               10X sequencing  DerivedType_Organoid  \n",
       "29732                               10X sequencing  DerivedType_Organoid  \n",
       "29733                               10X sequencing  DerivedType_Organoid  \n",
       "29734                               10X sequencing  DerivedType_Organoid  \n",
       "29735                               10X sequencing  DerivedType_Organoid  \n",
       "\n",
       "[29736 rows x 8 columns]"
      ],
      "text/html": [
       "<div>\n",
       "<style scoped>\n",
       "    .dataframe tbody tr th:only-of-type {\n",
       "        vertical-align: middle;\n",
       "    }\n",
       "\n",
       "    .dataframe tbody tr th {\n",
       "        vertical-align: top;\n",
       "    }\n",
       "\n",
       "    .dataframe thead th {\n",
       "        text-align: right;\n",
       "    }\n",
       "</style>\n",
       "<table border=\"1\" class=\"dataframe\">\n",
       "  <thead>\n",
       "    <tr style=\"text-align: right;\">\n",
       "      <th></th>\n",
       "      <th>CellID</th>\n",
       "      <th>SampleID</th>\n",
       "      <th>donor_id</th>\n",
       "      <th>nGene</th>\n",
       "      <th>nUMI</th>\n",
       "      <th>sex</th>\n",
       "      <th>library_preparation_protocol__ontology_label</th>\n",
       "      <th>biosample_type</th>\n",
       "    </tr>\n",
       "  </thead>\n",
       "  <tbody>\n",
       "    <tr>\n",
       "      <th>0</th>\n",
       "      <td>1_AAACGAACACGTGAGA-1_1_23d</td>\n",
       "      <td>Org1</td>\n",
       "      <td>Mito 210 c1 b1</td>\n",
       "      <td>536</td>\n",
       "      <td>3724</td>\n",
       "      <td>male</td>\n",
       "      <td>10X sequencing</td>\n",
       "      <td>DerivedType_Organoid</td>\n",
       "    </tr>\n",
       "    <tr>\n",
       "      <th>1</th>\n",
       "      <td>1_AAACGAAGTCGAAACG-1_1_23d</td>\n",
       "      <td>Org1</td>\n",
       "      <td>Mito 210 c1 b1</td>\n",
       "      <td>2310</td>\n",
       "      <td>9184</td>\n",
       "      <td>male</td>\n",
       "      <td>10X sequencing</td>\n",
       "      <td>DerivedType_Organoid</td>\n",
       "    </tr>\n",
       "    <tr>\n",
       "      <th>2</th>\n",
       "      <td>1_AAACGAAGTGGCAGAT-1_1_23d</td>\n",
       "      <td>Org1</td>\n",
       "      <td>Mito 210 c1 b1</td>\n",
       "      <td>2070</td>\n",
       "      <td>6359</td>\n",
       "      <td>male</td>\n",
       "      <td>10X sequencing</td>\n",
       "      <td>DerivedType_Organoid</td>\n",
       "    </tr>\n",
       "    <tr>\n",
       "      <th>3</th>\n",
       "      <td>1_AAACGAAGTGGTTCTA-1_1_23d</td>\n",
       "      <td>Org1</td>\n",
       "      <td>Mito 210 c1 b1</td>\n",
       "      <td>1292</td>\n",
       "      <td>3468</td>\n",
       "      <td>male</td>\n",
       "      <td>10X sequencing</td>\n",
       "      <td>DerivedType_Organoid</td>\n",
       "    </tr>\n",
       "    <tr>\n",
       "      <th>4</th>\n",
       "      <td>1_AAACGAAGTTGGCCGT-1_1_23d</td>\n",
       "      <td>Org1</td>\n",
       "      <td>Mito 210 c1 b1</td>\n",
       "      <td>832</td>\n",
       "      <td>1809</td>\n",
       "      <td>male</td>\n",
       "      <td>10X sequencing</td>\n",
       "      <td>DerivedType_Organoid</td>\n",
       "    </tr>\n",
       "    <tr>\n",
       "      <th>...</th>\n",
       "      <td>...</td>\n",
       "      <td>...</td>\n",
       "      <td>...</td>\n",
       "      <td>...</td>\n",
       "      <td>...</td>\n",
       "      <td>...</td>\n",
       "      <td>...</td>\n",
       "      <td>...</td>\n",
       "    </tr>\n",
       "    <tr>\n",
       "      <th>29731</th>\n",
       "      <td>3_TTTGGTTTCGGAATGG-1_2_23d</td>\n",
       "      <td>Org6</td>\n",
       "      <td>PGP1 c1 b2</td>\n",
       "      <td>995</td>\n",
       "      <td>1825</td>\n",
       "      <td>male</td>\n",
       "      <td>10X sequencing</td>\n",
       "      <td>DerivedType_Organoid</td>\n",
       "    </tr>\n",
       "    <tr>\n",
       "      <th>29732</th>\n",
       "      <td>3_TTTGGTTTCGGTTAGT-1_2_23d</td>\n",
       "      <td>Org6</td>\n",
       "      <td>PGP1 c1 b2</td>\n",
       "      <td>3449</td>\n",
       "      <td>13964</td>\n",
       "      <td>male</td>\n",
       "      <td>10X sequencing</td>\n",
       "      <td>DerivedType_Organoid</td>\n",
       "    </tr>\n",
       "    <tr>\n",
       "      <th>29733</th>\n",
       "      <td>3_TTTGTTGAGACCATAA-1_2_23d</td>\n",
       "      <td>Org6</td>\n",
       "      <td>PGP1 c1 b2</td>\n",
       "      <td>1382</td>\n",
       "      <td>3670</td>\n",
       "      <td>male</td>\n",
       "      <td>10X sequencing</td>\n",
       "      <td>DerivedType_Organoid</td>\n",
       "    </tr>\n",
       "    <tr>\n",
       "      <th>29734</th>\n",
       "      <td>3_TTTGTTGAGAGAAGGT-1_2_23d</td>\n",
       "      <td>Org6</td>\n",
       "      <td>PGP1 c1 b2</td>\n",
       "      <td>1331</td>\n",
       "      <td>3713</td>\n",
       "      <td>male</td>\n",
       "      <td>10X sequencing</td>\n",
       "      <td>DerivedType_Organoid</td>\n",
       "    </tr>\n",
       "    <tr>\n",
       "      <th>29735</th>\n",
       "      <td>3_TTTGTTGTCCATGAGT-1_2_23d</td>\n",
       "      <td>Org6</td>\n",
       "      <td>PGP1 c1 b2</td>\n",
       "      <td>1958</td>\n",
       "      <td>5589</td>\n",
       "      <td>male</td>\n",
       "      <td>10X sequencing</td>\n",
       "      <td>DerivedType_Organoid</td>\n",
       "    </tr>\n",
       "  </tbody>\n",
       "</table>\n",
       "<p>29736 rows × 8 columns</p>\n",
       "</div>"
      ]
     },
     "execution_count": 12,
     "metadata": {},
     "output_type": "execute_result"
    }
   ],
   "execution_count": 12
  },
  {
   "metadata": {},
   "cell_type": "markdown",
   "source": "Combine the expression data (`counts`), cell metadata (`meta_d23`), and gene metadata (`genes`) into a single `AnnData` object. This is commonly used for handling annotated data matrices, particularly in single-cell genomics.",
   "id": "238086408811b736"
  },
  {
   "cell_type": "code",
   "id": "6505a9fa",
   "metadata": {
    "id": "6505a9fa",
    "ExecuteTime": {
     "end_time": "2024-07-08T11:29:37.780915Z",
     "start_time": "2024-07-08T11:29:37.760334Z"
    }
   },
   "source": [
    "# Create an AnnData object\n",
    "adata = anndata.AnnData(X=counts, # The primary data matrix, counts, is the expression data\n",
    "                        obs=meta_d23, # The observation annotations, meta_d23, contains metadata about the observations (cells)\n",
    "                        var=genes) # The variable annotations, gene, contains metadata about the variables (genes)\n",
    "adata"
   ],
   "outputs": [
    {
     "name": "stderr",
     "output_type": "stream",
     "text": [
      "/Users/laurahuggon/PycharmProjects/figureonelab/venv/lib/python3.10/site-packages/anndata/_core/aligned_df.py:67: ImplicitModificationWarning: Transforming to str index.\n",
      "  warnings.warn(\"Transforming to str index.\", ImplicitModificationWarning)\n",
      "/Users/laurahuggon/PycharmProjects/figureonelab/venv/lib/python3.10/site-packages/anndata/_core/aligned_df.py:67: ImplicitModificationWarning: Transforming to str index.\n",
      "  warnings.warn(\"Transforming to str index.\", ImplicitModificationWarning)\n"
     ]
    },
    {
     "data": {
      "text/plain": [
       "AnnData object with n_obs × n_vars = 29736 × 33694\n",
       "    obs: 'CellID', 'SampleID', 'donor_id', 'nGene', 'nUMI', 'sex', 'library_preparation_protocol__ontology_label', 'biosample_type'\n",
       "    var: 'Genes'"
      ]
     },
     "execution_count": 13,
     "metadata": {},
     "output_type": "execute_result"
    }
   ],
   "execution_count": 13
  },
  {
   "cell_type": "code",
   "id": "918a29e1",
   "metadata": {
    "ExecuteTime": {
     "end_time": "2024-07-08T11:29:37.786209Z",
     "start_time": "2024-07-08T11:29:37.783378Z"
    }
   },
   "source": [
    "#adata.var_names_make_unique"
   ],
   "outputs": [],
   "execution_count": 14
  },
  {
   "metadata": {},
   "cell_type": "markdown",
   "source": [
    "Using the `scanpy` library, which is commonly used for scRNA-seq data analyse, filter genes and cells in `adata`:\n",
    "* Genes that are expressed in fewer than 10 cells should be filtered out.\n",
    "* Cells that express fewer than 200 genes should be filtered out.\n",
    "\n",
    "*Notes:*\n",
    "* Filtering genes helps to reduce noise by eliminating genes with very low expression across the dataset. \n",
    "* Filtering cells helps to remove low-quality or potential empty droplets in the scRNA-seq data."
   ],
   "id": "cfa33a0d15318682"
  },
  {
   "cell_type": "code",
   "id": "f07c050e",
   "metadata": {
    "id": "f07c050e",
    "ExecuteTime": {
     "end_time": "2024-07-08T11:29:41.722029Z",
     "start_time": "2024-07-08T11:29:37.787844Z"
    }
   },
   "source": [
    "# sc.pp.filter_genes is a function from the scanpy library that filters genes based on their expression across cells\n",
    "# min_cells is the minimum number of cells a gene must be expressed in to be retained\n",
    "sc.pp.filter_genes(adata, min_cells=10)\n",
    "# sc.pp.filter_cells is a function from the scanpy library that filters cells based on the number of genes they express\n",
    "# min_genes is the minimum number of genes a cell must express to be retained\n",
    "sc.pp.filter_cells(adata, min_genes=200)"
   ],
   "outputs": [],
   "execution_count": 15
  },
  {
   "cell_type": "code",
   "id": "9af4f4fc",
   "metadata": {
    "ExecuteTime": {
     "end_time": "2024-07-08T11:29:41.735265Z",
     "start_time": "2024-07-08T11:29:41.728081Z"
    }
   },
   "source": [
    "adata"
   ],
   "outputs": [
    {
     "data": {
      "text/plain": [
       "AnnData object with n_obs × n_vars = 29736 × 20589\n",
       "    obs: 'CellID', 'SampleID', 'donor_id', 'nGene', 'nUMI', 'sex', 'library_preparation_protocol__ontology_label', 'biosample_type', 'n_genes'\n",
       "    var: 'Genes', 'n_cells'"
      ]
     },
     "execution_count": 16,
     "metadata": {},
     "output_type": "execute_result"
    }
   ],
   "execution_count": 16
  },
  {
   "metadata": {},
   "cell_type": "markdown",
   "source": [
    "Ensure that the primary data matrix (`X`) in the `AnnData` object is stored in a CSR format, which is important for large scRNA-seq datasets.\n",
    "\n",
    "Create a new layer called `counts` in the `AnnData` object, storing a CSR format copy of the primary data matrix. Layers in `AnnData` are used to store different versions or transformations of the primary data matrix."
   ],
   "id": "a99e0bcf9f4c8bbc"
  },
  {
   "cell_type": "code",
   "id": "e6bed337",
   "metadata": {
    "ExecuteTime": {
     "end_time": "2024-07-08T11:29:42.588733Z",
     "start_time": "2024-07-08T11:29:41.737546Z"
    }
   },
   "source": [
    "# Create a copy of the expression data matrix (X) to avoid modifying the original data directly\n",
    "# scipy.sparse.csr_matrix converts the copied matrix to CSR format and assigns it back to adata.X\n",
    "adata.X = scipy.sparse.csr_matrix(adata.X.copy())\n",
    "# Create another copy of the expression data matrix to ensure that the data is the new layer is also a separate copy\n",
    "# Conver the copied matrix to CSR format and assign to a new layer named counts\n",
    "adata.layers['counts'] = scipy.sparse.csr_matrix(adata.X.copy())\n",
    "#adata.layers['log2_counts'] = sc.pp.log1p(adata.layers['counts'].copy(), base=2)"
   ],
   "outputs": [],
   "execution_count": 17
  },
  {
   "metadata": {},
   "cell_type": "markdown",
   "source": [
    "Train a Single-Cell Variational Inference (SCVI) model on the scRNA-seq data contained in the `AnnData` object, considering batch effects specified by `SampleID`. \n",
    "\n",
    "*Notes:*\n",
    "* The SCVI model is a probabilistic model used to analyse scRNA-seq data.\n",
    "* SCVI leverages variational autoencoders (VAEs), a type of deep learning model, to capture the underlying structure and variability in high-dimension scRNA-seq data.\n",
    "* **VAEs:**\n",
    "    * VAEs are a type of generative model that learn a low-dimension latent representation of the data.\n",
    "    * They consist of an encoder network that maps the high-dimensional input data to a low-dimensional latent space, and a decoder network that reconstructs the input data from the latent representation.\n",
    "    * The latent space captures the underlying structure and variability in the data.\n",
    "* **Negative Binomial Likelihood:**\n",
    "    * scRNA-seq data are count data, often modelled using the negative binomial distribution to account for overdispersion (variance greater than the mean).\n",
    "* **Batch effect correction:**\n",
    "    * scRNA-seq experiments are often conducted in multiple batches, leading to batch-specific technical variations.\n",
    "    * SCVI includes batch correction mechanisms by integrating batch information into the model.\n",
    "* The learnt low-dimensional representation of the gene expression data can then be used for downstream analysis such as dimensionality reduction (low-dimensional representation of the data for visualisation), clustering (identifying distinct cell populations based on their gene expression profiles) and differential expression analysis (identifying genes that are differentially expressed between different cell types or conditions).\n",
    "* **Parameters:**\n",
    "    * **n_layers:** the number of hidden layers in the encoder and decoder neural networks. Increasing the number of layers can allow the model to capture more complex patterns in the data but also increases the computational cost and risk of overfitting.\n",
    "    * **n_latent:** the dimensionality of the latent space. The latent space is a lower-dimensional representation of the data learned by the model. A higher number of dimensions can capture more variation but also required more parameters to be learned.\n",
    "    * **n_hidden:** the number of hidden units in each hidden layer of the encoder and decoder neural networks. More hidden units increase the capacity of the model to learn complex patterns, but also increase the computational cost and risk of overfitting.\n",
    "    * **gene_likelihood:** the likelihood model used for gene expression. The choice of likelihood model determines how the model interprets the distribution of gene expression counts."
   ],
   "id": "fee0702beb68684f"
  },
  {
   "cell_type": "code",
   "id": "d38cea09",
   "metadata": {},
   "source": [
    "%%time\n",
    "random.seed(17)\n",
    "# Prepare the AnnData object for use with the SCVI model\n",
    "# Specify that the data for the model should be taken from the counts layer\n",
    "# Specify the column in the obs dataframe that contains batch information\n",
    "scvi.model.SCVI.setup_anndata(adata, layer='counts', batch_key='SampleID')\n",
    "# Initialise the SCVI model using scvi.model.SCVI\n",
    "scvi_model = scvi.model.SCVI(adata, n_layers=2, n_latent=30, n_hidden=128, gene_likelihood='nb')\n",
    "# Train the SCVI model\n",
    "scvi_model.train()\n",
    "# Save the SCVI model\n",
    "scvi_model.save('./scvi_model_checkpoint', overwrite=True)"
   ],
   "outputs": [],
   "execution_count": null
  },
  {
   "metadata": {
    "ExecuteTime": {
     "end_time": "2024-07-08T11:30:06.085064Z",
     "start_time": "2024-07-08T11:30:04.782721Z"
    }
   },
   "cell_type": "code",
   "source": [
    "# Load the previously saved SCVI model\n",
    "scvi_model = scvi.model.SCVI.load('./scvi_model_checkpoint', adata=adata) # The adata parameter is necessary when loading the model to ensure it has the correct AnnData object associated with it"
   ],
   "id": "74937eed820080ff",
   "outputs": [
    {
     "name": "stdout",
     "output_type": "stream",
     "text": [
      "\u001B[34mINFO    \u001B[0m File .\u001B[35m/scvi_model_checkpoint/\u001B[0m\u001B[95mmodel.pt\u001B[0m already downloaded                                                  \n"
     ]
    }
   ],
   "execution_count": 18
  },
  {
   "metadata": {},
   "cell_type": "markdown",
   "source": [
    "Use the trained SCVI model to obtain a latent representation of the data and normalise the gene expression counts.\n",
    "\n",
    "*Notes 1:*\n",
    "* A latent representation refers to a lower-dimensional space where the data is represented by a set of features that capture the most significant aspects of the original high-dimensional data.\n",
    "* In the context of scRNA-seq data, the latent representation is a learned, compressed version of the gene expression data that retains essential biological information while reducing noise and complexity.\n",
    "* **Dimensionality reduction:**\n",
    "    * The orgininal gene expression matrix can have thousands of genes (features) for each cell (observation), resulting in a very high-dimensional space.\n",
    "    * Dimensionality reduction techniques, such as those used in SCVI, transform this high-dimensional data into a lower-dimensional space with fewer features while preserving the important structure and variability of the data.\n",
    "* **VAE:**\n",
    "    * SCVI uses a type of deep learning model called a VAE to learn the latent representation.\n",
    "* **Capturing biological variability:**\n",
    "    * The latent space learned by SCVI aims to capture the underlying biological variability in the data, such as different cell types, states or conditions.\n",
    "    * The compressed representation helps to highlight meaningful patterns and relationships that might be obscured by noise or technical variability in the original high-dimensional data.\n",
    "\n",
    "*Notes 2:*\n",
    "* Library size normalisation is the process of adjusting raw gene expression counts to account for differences in sequencing depth (total number of reads/unique molecular identifiers (UMIs) per cell).\n",
    "* Cells in scRNA-seq experiments can have varying sequencing depths due to technical differences or biological variability.\n",
    "* A common practice is the normalise the expression data to a fixed library size, often 10,000 reads/UMIs per cell (this is somewhat arbitrary).\n",
    "* Normalisation typically involves the following steps:\n",
    "    * **Calculate size factors:** determine a size factor for each cell, which is the total number of reads/UMIs for that cell.\n",
    "    * **Scale counts:** adjust each gene's count in each cell by dividing by the cell;s size factor and then multiplying by the chosen library size."
   ],
   "id": "5986427e12e44b12"
  },
  {
   "cell_type": "code",
   "id": "4a916c81",
   "metadata": {
    "ExecuteTime": {
     "end_time": "2024-07-08T11:30:28.723153Z",
     "start_time": "2024-07-08T11:30:09.085841Z"
    }
   },
   "source": [
    "random.seed(17)\n",
    "# Extract the low-dimensional latent representation of the data learned by the SCVI model and store in the obsm attribute of the AnnData object, under the key 'X_scvi'\n",
    "# The obsm (observation multi-dimensional) attribute is a dictionary that can hold arrays such as dimensionality reduction results\n",
    "adata.obsm['X_scvi'] = scvi_model.get_latent_representation()\n",
    "# Normalise the expression counts by a specified library size (e.g. 10,000 reads per cells) to adjust for differences in sequencing depth across cells\n",
    "# Store the normalised expression data in the layers attribute of the AnnData object, under the key 'counts_scvi'\n",
    "# The layers attribute is a dictionary that can hold multiple versions of the expression data, such as raw counts, normalised counts, and imputed counts\n",
    "adata.layers['counts_scvi'] = scvi_model.get_normalized_expression(library_size=10000)\n",
    "#adata.layers['log2_counts_scvi'] = sc.pp.log1p(adata.layers['counts_scvi'].copy(), base=2)"
   ],
   "outputs": [],
   "execution_count": 19
  },
  {
   "metadata": {},
   "cell_type": "markdown",
   "source": [
    "The latent representation `X_scvi` contains the latent representation of the cells, which can be used for visualisation (e.g. UMAP, t-SNE) or clustering.\n",
    "\n",
    "The normalised expression `counts_scvi` contains the normalised gene expression counts, which can be used for differential expression analysis."
   ],
   "id": "377a434a5979f6ba"
  },
  {
   "metadata": {},
   "cell_type": "markdown",
   "source": "Perform clustering and visualisation of the scRNA-seq data using the SCVI model's latent representation.",
   "id": "ac8e759dac7804b5"
  },
  {
   "cell_type": "code",
   "id": "2f8489e9",
   "metadata": {
    "ExecuteTime": {
     "end_time": "2024-07-08T11:31:46.461678Z",
     "start_time": "2024-07-08T11:30:42.136443Z"
    }
   },
   "source": [
    "%%time\n",
    "# Compute the neighborhood graph of observations (cells)\n",
    "# use_rep='X_scvi' uses the SCVI latent representation for computing neighbors\n",
    "# key_added='neighbors_scvi' stores the computed neighborhood graph in adata.uns with the key 'neighbors_scvi'\n",
    "# n_neighbors=20 specifies the number of neighbors to consider for each cell\n",
    "sc.pp.neighbors(adata, use_rep='X_scvi', key_added='neighbors_scvi', n_neighbors=20)\n",
    "# Perform Leidan clustering to identify clusters of cells\n",
    "# neighbours_key='neighbours_scvi' uses the previously computed neighborhood graph for clustering\n",
    "# key_added='leiden_scvi' stores the cluster labels in adata.obs with the key 'leiden_scvi'\n",
    "# resolution=3 specifies the resolution parameter for the Leiden algorithm - higher values lead to more clusters\n",
    "sc.tl.leiden(adata, neighbors_key='neighbors_scvi', key_added='leiden_scvi', resolution=3)\n",
    "# Compute a UMAP embedding for visualisation using the neighborhood graph (neighbors_scvi)\n",
    "# UMAP coodinates are stored in adata.obsm with the key `X_umap`\n",
    "sc.tl.umap(adata, neighbors_key='neighbors_scvi')\n",
    "# Plot the UMAP embedding colouring the cells based on the Leiden clustering labels (leidan_scvi)\n",
    "sc.pl.umap(adata, color=['leiden_scvi'], legend_loc='on data')"
   ],
   "outputs": [
    {
     "name": "stderr",
     "output_type": "stream",
     "text": [
      "OMP: Info #276: omp_set_nested routine deprecated, please use omp_set_max_active_levels instead.\n",
      "<timed exec>:10: FutureWarning: In the future, the default backend for leiden will be igraph instead of leidenalg.\n",
      "\n",
      " To achieve the future defaults please pass: flavor=\"igraph\" and n_iterations=2.  directed must also be False to work with igraph's implementation.\n"
     ]
    },
    {
     "data": {
      "text/plain": [
       "<Figure size 640x480 with 1 Axes>"
      ],
      "image/png": "[encoded data removed]"
     },
     "metadata": {},
     "output_type": "display_data"
    },
    {
     "name": "stdout",
     "output_type": "stream",
     "text": [
      "CPU times: user 1min 1s, sys: 2.34 s, total: 1min 3s\n",
      "Wall time: 1min 4s\n"
     ]
    }
   ],
   "execution_count": 20
  },
  {
   "metadata": {},
   "cell_type": "markdown",
   "source": [
    "This is a UMAP plot, which visualises the cells in two-dimensional space:\n",
    "* Each point represents a cell, positioned according to the UMAP embedding.\n",
    "* The points are coloured based on their Leidan cluster labels, where each cluster is assigned a different colour."
   ],
   "id": "37008a9ebd89a729"
  },
  {
   "cell_type": "code",
   "id": "26589746",
   "metadata": {
    "ExecuteTime": {
     "end_time": "2024-07-08T11:31:46.480921Z",
     "start_time": "2024-07-08T11:31:46.465107Z"
    }
   },
   "source": [
    "adata.obs"
   ],
   "outputs": [
    {
     "data": {
      "text/plain": [
       "                           CellID SampleID        donor_id nGene   nUMI   sex  \\\n",
       "0      1_AAACGAACACGTGAGA-1_1_23d     Org1  Mito 210 c1 b1   536   3724  male   \n",
       "1      1_AAACGAAGTCGAAACG-1_1_23d     Org1  Mito 210 c1 b1  2310   9184  male   \n",
       "2      1_AAACGAAGTGGCAGAT-1_1_23d     Org1  Mito 210 c1 b1  2070   6359  male   \n",
       "3      1_AAACGAAGTGGTTCTA-1_1_23d     Org1  Mito 210 c1 b1  1292   3468  male   \n",
       "4      1_AAACGAAGTTGGCCGT-1_1_23d     Org1  Mito 210 c1 b1   832   1809  male   \n",
       "...                           ...      ...             ...   ...    ...   ...   \n",
       "29731  3_TTTGGTTTCGGAATGG-1_2_23d     Org6      PGP1 c1 b2   995   1825  male   \n",
       "29732  3_TTTGGTTTCGGTTAGT-1_2_23d     Org6      PGP1 c1 b2  3449  13964  male   \n",
       "29733  3_TTTGTTGAGACCATAA-1_2_23d     Org6      PGP1 c1 b2  1382   3670  male   \n",
       "29734  3_TTTGTTGAGAGAAGGT-1_2_23d     Org6      PGP1 c1 b2  1331   3713  male   \n",
       "29735  3_TTTGTTGTCCATGAGT-1_2_23d     Org6      PGP1 c1 b2  1958   5589  male   \n",
       "\n",
       "      library_preparation_protocol__ontology_label        biosample_type  \\\n",
       "0                                   10X sequencing  DerivedType_Organoid   \n",
       "1                                   10X sequencing  DerivedType_Organoid   \n",
       "2                                   10X sequencing  DerivedType_Organoid   \n",
       "3                                   10X sequencing  DerivedType_Organoid   \n",
       "4                                   10X sequencing  DerivedType_Organoid   \n",
       "...                                            ...                   ...   \n",
       "29731                               10X sequencing  DerivedType_Organoid   \n",
       "29732                               10X sequencing  DerivedType_Organoid   \n",
       "29733                               10X sequencing  DerivedType_Organoid   \n",
       "29734                               10X sequencing  DerivedType_Organoid   \n",
       "29735                               10X sequencing  DerivedType_Organoid   \n",
       "\n",
       "       n_genes  _scvi_batch  _scvi_labels leiden_scvi  \n",
       "0          536            0             0          38  \n",
       "1         2310            0             0          14  \n",
       "2         2068            0             0          35  \n",
       "3         1291            0             0          26  \n",
       "4          831            0             0          15  \n",
       "...        ...          ...           ...         ...  \n",
       "29731      994            5             0          13  \n",
       "29732     3449            5             0           1  \n",
       "29733     1382            5             0           9  \n",
       "29734     1329            5             0          11  \n",
       "29735     1958            5             0           5  \n",
       "\n",
       "[29736 rows x 12 columns]"
      ],
      "text/html": [
       "<div>\n",
       "<style scoped>\n",
       "    .dataframe tbody tr th:only-of-type {\n",
       "        vertical-align: middle;\n",
       "    }\n",
       "\n",
       "    .dataframe tbody tr th {\n",
       "        vertical-align: top;\n",
       "    }\n",
       "\n",
       "    .dataframe thead th {\n",
       "        text-align: right;\n",
       "    }\n",
       "</style>\n",
       "<table border=\"1\" class=\"dataframe\">\n",
       "  <thead>\n",
       "    <tr style=\"text-align: right;\">\n",
       "      <th></th>\n",
       "      <th>CellID</th>\n",
       "      <th>SampleID</th>\n",
       "      <th>donor_id</th>\n",
       "      <th>nGene</th>\n",
       "      <th>nUMI</th>\n",
       "      <th>sex</th>\n",
       "      <th>library_preparation_protocol__ontology_label</th>\n",
       "      <th>biosample_type</th>\n",
       "      <th>n_genes</th>\n",
       "      <th>_scvi_batch</th>\n",
       "      <th>_scvi_labels</th>\n",
       "      <th>leiden_scvi</th>\n",
       "    </tr>\n",
       "  </thead>\n",
       "  <tbody>\n",
       "    <tr>\n",
       "      <th>0</th>\n",
       "      <td>1_AAACGAACACGTGAGA-1_1_23d</td>\n",
       "      <td>Org1</td>\n",
       "      <td>Mito 210 c1 b1</td>\n",
       "      <td>536</td>\n",
       "      <td>3724</td>\n",
       "      <td>male</td>\n",
       "      <td>10X sequencing</td>\n",
       "      <td>DerivedType_Organoid</td>\n",
       "      <td>536</td>\n",
       "      <td>0</td>\n",
       "      <td>0</td>\n",
       "      <td>38</td>\n",
       "    </tr>\n",
       "    <tr>\n",
       "      <th>1</th>\n",
       "      <td>1_AAACGAAGTCGAAACG-1_1_23d</td>\n",
       "      <td>Org1</td>\n",
       "      <td>Mito 210 c1 b1</td>\n",
       "      <td>2310</td>\n",
       "      <td>9184</td>\n",
       "      <td>male</td>\n",
       "      <td>10X sequencing</td>\n",
       "      <td>DerivedType_Organoid</td>\n",
       "      <td>2310</td>\n",
       "      <td>0</td>\n",
       "      <td>0</td>\n",
       "      <td>14</td>\n",
       "    </tr>\n",
       "    <tr>\n",
       "      <th>2</th>\n",
       "      <td>1_AAACGAAGTGGCAGAT-1_1_23d</td>\n",
       "      <td>Org1</td>\n",
       "      <td>Mito 210 c1 b1</td>\n",
       "      <td>2070</td>\n",
       "      <td>6359</td>\n",
       "      <td>male</td>\n",
       "      <td>10X sequencing</td>\n",
       "      <td>DerivedType_Organoid</td>\n",
       "      <td>2068</td>\n",
       "      <td>0</td>\n",
       "      <td>0</td>\n",
       "      <td>35</td>\n",
       "    </tr>\n",
       "    <tr>\n",
       "      <th>3</th>\n",
       "      <td>1_AAACGAAGTGGTTCTA-1_1_23d</td>\n",
       "      <td>Org1</td>\n",
       "      <td>Mito 210 c1 b1</td>\n",
       "      <td>1292</td>\n",
       "      <td>3468</td>\n",
       "      <td>male</td>\n",
       "      <td>10X sequencing</td>\n",
       "      <td>DerivedType_Organoid</td>\n",
       "      <td>1291</td>\n",
       "      <td>0</td>\n",
       "      <td>0</td>\n",
       "      <td>26</td>\n",
       "    </tr>\n",
       "    <tr>\n",
       "      <th>4</th>\n",
       "      <td>1_AAACGAAGTTGGCCGT-1_1_23d</td>\n",
       "      <td>Org1</td>\n",
       "      <td>Mito 210 c1 b1</td>\n",
       "      <td>832</td>\n",
       "      <td>1809</td>\n",
       "      <td>male</td>\n",
       "      <td>10X sequencing</td>\n",
       "      <td>DerivedType_Organoid</td>\n",
       "      <td>831</td>\n",
       "      <td>0</td>\n",
       "      <td>0</td>\n",
       "      <td>15</td>\n",
       "    </tr>\n",
       "    <tr>\n",
       "      <th>...</th>\n",
       "      <td>...</td>\n",
       "      <td>...</td>\n",
       "      <td>...</td>\n",
       "      <td>...</td>\n",
       "      <td>...</td>\n",
       "      <td>...</td>\n",
       "      <td>...</td>\n",
       "      <td>...</td>\n",
       "      <td>...</td>\n",
       "      <td>...</td>\n",
       "      <td>...</td>\n",
       "      <td>...</td>\n",
       "    </tr>\n",
       "    <tr>\n",
       "      <th>29731</th>\n",
       "      <td>3_TTTGGTTTCGGAATGG-1_2_23d</td>\n",
       "      <td>Org6</td>\n",
       "      <td>PGP1 c1 b2</td>\n",
       "      <td>995</td>\n",
       "      <td>1825</td>\n",
       "      <td>male</td>\n",
       "      <td>10X sequencing</td>\n",
       "      <td>DerivedType_Organoid</td>\n",
       "      <td>994</td>\n",
       "      <td>5</td>\n",
       "      <td>0</td>\n",
       "      <td>13</td>\n",
       "    </tr>\n",
       "    <tr>\n",
       "      <th>29732</th>\n",
       "      <td>3_TTTGGTTTCGGTTAGT-1_2_23d</td>\n",
       "      <td>Org6</td>\n",
       "      <td>PGP1 c1 b2</td>\n",
       "      <td>3449</td>\n",
       "      <td>13964</td>\n",
       "      <td>male</td>\n",
       "      <td>10X sequencing</td>\n",
       "      <td>DerivedType_Organoid</td>\n",
       "      <td>3449</td>\n",
       "      <td>5</td>\n",
       "      <td>0</td>\n",
       "      <td>1</td>\n",
       "    </tr>\n",
       "    <tr>\n",
       "      <th>29733</th>\n",
       "      <td>3_TTTGTTGAGACCATAA-1_2_23d</td>\n",
       "      <td>Org6</td>\n",
       "      <td>PGP1 c1 b2</td>\n",
       "      <td>1382</td>\n",
       "      <td>3670</td>\n",
       "      <td>male</td>\n",
       "      <td>10X sequencing</td>\n",
       "      <td>DerivedType_Organoid</td>\n",
       "      <td>1382</td>\n",
       "      <td>5</td>\n",
       "      <td>0</td>\n",
       "      <td>9</td>\n",
       "    </tr>\n",
       "    <tr>\n",
       "      <th>29734</th>\n",
       "      <td>3_TTTGTTGAGAGAAGGT-1_2_23d</td>\n",
       "      <td>Org6</td>\n",
       "      <td>PGP1 c1 b2</td>\n",
       "      <td>1331</td>\n",
       "      <td>3713</td>\n",
       "      <td>male</td>\n",
       "      <td>10X sequencing</td>\n",
       "      <td>DerivedType_Organoid</td>\n",
       "      <td>1329</td>\n",
       "      <td>5</td>\n",
       "      <td>0</td>\n",
       "      <td>11</td>\n",
       "    </tr>\n",
       "    <tr>\n",
       "      <th>29735</th>\n",
       "      <td>3_TTTGTTGTCCATGAGT-1_2_23d</td>\n",
       "      <td>Org6</td>\n",
       "      <td>PGP1 c1 b2</td>\n",
       "      <td>1958</td>\n",
       "      <td>5589</td>\n",
       "      <td>male</td>\n",
       "      <td>10X sequencing</td>\n",
       "      <td>DerivedType_Organoid</td>\n",
       "      <td>1958</td>\n",
       "      <td>5</td>\n",
       "      <td>0</td>\n",
       "      <td>5</td>\n",
       "    </tr>\n",
       "  </tbody>\n",
       "</table>\n",
       "<p>29736 rows × 12 columns</p>\n",
       "</div>"
      ]
     },
     "execution_count": 21,
     "metadata": {},
     "output_type": "execute_result"
    }
   ],
   "execution_count": 21
  },
  {
   "metadata": {},
   "cell_type": "markdown",
   "source": [
    "Four columns were added to `adata.obs`:\n",
    "* `n_genes`: added when the `sc.pp.filter_cells` function was called. This function computes the number of genes expressed in each cell and stores it in this column.\n",
    "* `_scvi_batch`: an internal column created by `scvi-tools` during the setup of the `AnnData` object for the SCVI model. It encodes batch information based on the `SampleID` column and is used by the SCVI model to account for batch effects during training.\n",
    "* `_svci_labels`: an internal column created by `scvi-tools` during the set of the `AnnData` object for the SCVI model. It typically encodes the labels used by the SCVI model during training.\n",
    "* `leiden_scvi`: contains the cluster labels assigned to each cell by the Leiden clustering algorithm.\n",
    "\n",
    "nsure each column in the `obs` attribute of the `AnnData` object has the correct data types."
   ],
   "id": "dcb164888c3e1d54"
  },
  {
   "cell_type": "code",
   "id": "609a0145",
   "metadata": {
    "ExecuteTime": {
     "end_time": "2024-07-08T11:31:46.527923Z",
     "start_time": "2024-07-08T11:31:46.483573Z"
    }
   },
   "source": [
    "adata.obs['CellID'] = adata.obs['CellID'].astype(str)\n",
    "adata.obs['SampleID'] = adata.obs['SampleID'].astype(str)\n",
    "adata.obs['donor_id'] = adata.obs['donor_id'].astype(str)\n",
    "adata.obs['nGene'] = adata.obs['nGene'].astype(int)\n",
    "adata.obs['nUMI'] = adata.obs['nUMI'].astype(int)\n",
    "adata.obs['sex'] = adata.obs['sex'].astype(str)\n",
    "adata.obs['library_preparation_protocol__ontology_label'] = adata.obs['library_preparation_protocol__ontology_label'].astype(str)\n",
    "adata.obs['biosample_type'] = adata.obs['biosample_type'].astype(str)\n",
    "adata.obs['leiden_scvi'] = adata.obs['leiden_scvi'].astype(str)"
   ],
   "outputs": [],
   "execution_count": 22
  },
  {
   "cell_type": "code",
   "id": "a133a943",
   "metadata": {},
   "source": [
    "%%time\n",
    "adata.write('./outs/231228_uzquiano_d23_rna_scvi.h5ad')\n",
    "scvi_model.save('./outs/231228_uzquiano_d23_rna_scvi_model/')"
   ],
   "outputs": [],
   "execution_count": null
  }
 ],
 "metadata": {
  "colab": {
   "provenance": []
  },
  "kernelspec": {
   "display_name": "Python 3 (ipykernel)",
   "language": "python",
   "name": "python3"
  },
  "language_info": {
   "codemirror_mode": {
    "name": "ipython",
    "version": 3
   },
   "file_extension": ".py",
   "mimetype": "text/x-python",
   "name": "python",
   "nbconvert_exporter": "python",
   "pygments_lexer": "ipython3",
   "version": "3.10.8"
  }
 },
 "nbformat": 4,
 "nbformat_minor": 5
}
