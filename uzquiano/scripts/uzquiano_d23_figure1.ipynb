{
 "cells": [
  {
   "metadata": {},
   "cell_type": "markdown",
   "source": [
    "# FigureOneLabs: Proper acquisition of cell class identity in organoids allows definition of fate specification programs of the human cerebral cortex (Uzquiano, 2022)\n",
    "## Recreating figure one"
   ],
   "id": "19331b6750a0e8eb"
  },
  {
   "cell_type": "code",
   "id": "b3c003c7",
   "metadata": {
    "executionInfo": {
     "elapsed": 11701,
     "status": "ok",
     "timestamp": 1703195601975,
     "user": {
      "displayName": "Dean Lee",
      "userId": "08770626040323150090"
     },
     "user_tz": 300
    },
    "id": "b3c003c7"
   },
   "source": [
    "import os\n",
    "import numpy as np\n",
    "import pandas as pd\n",
    "import scipy\n",
    "import anndata\n",
    "import scanpy as sc\n",
    "import pybiomart\n",
    "import scvi\n",
    "import torch\n",
    "import random\n",
    "import seaborn as sns"
   ],
   "outputs": [],
   "execution_count": null
  },
  {
   "metadata": {},
   "cell_type": "markdown",
   "source": [
    "Create a function, `PlotUMAP`, that creates a UMAP plot for each marker in the provided `markers` list. The function takes several parameters:\n",
    "* `adata`: an AnnData object.\n",
    "* `markers`: a list of markers (genes) to be visualised on the UMAP plot.\n",
    "* `layer`: specifies the layer of data to use, with a default value of `log2_counts_scvi`.\n",
    "* `size`: sets the size of the points in the plot.\n",
    "* `vmin` and `vmax`: set the minimum and maximum values for the colour scale."
   ],
   "id": "ac902387b0e58a75"
  },
  {
   "cell_type": "code",
   "id": "182072c0",
   "metadata": {},
   "source": [
    "def PlotUMAP(adata, markers, layer='log2_counts_scvi', size=2, vmin='p0', vmax='p99'):\n",
    "    # Loop over each marker in the markers list\n",
    "    for i in range(len(markers)):\n",
    "        # Within the loop, the umap function of the from the scanpy.plotting module (sc.pl) is called for each marker\n",
    "        sc.pl.umap(adata, # The AnnData object to be plotted\n",
    "                   color=markers[i], # Colours the UMAP plot points according to the expression of the current marker\n",
    "                   layer=layer, # Layer of data for the plot\n",
    "                   size=size, # Size of points in the plot\n",
    "                   cmap=sns.blend_palette(['lightgray', sns.xkcd_rgb['red orange']], as_cmap=True), # Colourmap for the plot\n",
    "                   vmin=vmin, vmax=vmax) # Minimum and maximum values for the colour scale"
   ],
   "outputs": [],
   "execution_count": null
  },
  {
   "metadata": {},
   "cell_type": "markdown",
   "source": "Generate a dotplot, showing the expression levels of each gene marker in the `markers` list across different clusters identified by Leiden clustering. Create a UMAP plot for each gene marker, using the `log2_counts_scvi` layer. These plots help in understanding the expression patterns of specific genes across different cell clusters and in a reduced dimensional space, providing insights into cell type-specific expression profiles and potential biological functions.",
   "id": "dbe3857ae2a9383b"
  },
  {
   "cell_type": "code",
   "id": "c570b923",
   "metadata": {},
   "source": [
    "# Dataset1-MarkerGeneExpression.tif\n",
    "\n",
    "# List of gene markers - each element in the list is a gene identifier\n",
    "markers = ['EMX1','SOX2','PAX3','INSM1','EOMES',\n",
    "           'PAX2','LAMP5','NEFL','FOXP2','WLS',\n",
    "           'GDF7','FOXD3','SIX1','ISL1','TWIST1']\n",
    "# Create a dotplot showing the expression of multiple genes across different clusters\n",
    "# groupby=\"leiden_scvi\" specifies how to group the data for the dotplot - each cluster will be represented as a separate group in the dot plot\n",
    "sc.pl.dotplot(adata, markers, groupby='leiden_scvi')\n",
    "# Use the PlotUMAP function to create a UMAP plot for each marker gene\n",
    "PlotUMAP(adata, markers, layer='log2_counts_scvi', size=5)"
   ],
   "outputs": [],
   "execution_count": null
  }
 ],
 "metadata": {
  "colab": {
   "provenance": []
  },
  "kernelspec": {
   "display_name": "Python 3 (ipykernel)",
   "language": "python",
   "name": "python3"
  },
  "language_info": {
   "codemirror_mode": {
    "name": "ipython",
    "version": 3
   },
   "file_extension": ".py",
   "mimetype": "text/x-python",
   "name": "python",
   "nbconvert_exporter": "python",
   "pygments_lexer": "ipython3",
   "version": "3.10.8"
  }
 },
 "nbformat": 4,
 "nbformat_minor": 5
}
